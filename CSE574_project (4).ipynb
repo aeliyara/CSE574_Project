{
 "cells": [
  {
   "cell_type": "markdown",
   "metadata": {},
   "source": [
    "# Exploration of Past U.S Presidential Elections"
   ]
  },
  {
   "cell_type": "markdown",
   "metadata": {},
   "source": [
    "### Importing necessary libraries"
   ]
  },
  {
   "cell_type": "code",
   "execution_count": 1,
   "metadata": {},
   "outputs": [],
   "source": [
    "import pandas as pd\n",
    "import seaborn as sns\n",
    "import numpy as np\n",
    "from sklearn import preprocessing\n",
    "import matplotlib.pyplot as plt \n",
    "from sklearn.linear_model import LogisticRegression\n",
    "from sklearn.model_selection import train_test_split\n",
    "from sklearn.model_selection import StratifiedShuffleSplit\n",
    "from sklearn.model_selection import cross_val_score\n",
    "from sklearn import svm"
   ]
  },
  {
   "cell_type": "markdown",
   "metadata": {},
   "source": [
    "### Importing and manipulating 2016 Election Data"
   ]
  },
  {
   "cell_type": "code",
   "execution_count": 2,
   "metadata": {},
   "outputs": [],
   "source": [
    "df = pd.read_excel ('election_results_2016.xlsx')\n",
    "\n",
    "election_2016 = df.loc[451:517]\n",
    "election_2016 = election_2016.drop(columns = ['Rpt', 'Vote by town', 'Place', 'State'])\n",
    "\n",
    "for each in range(451,518):\n",
    "    if election_2016.loc[each, 'Clinton'] > election_2016.loc[each,'Trump']:\n",
    "        election_2016.loc[each, 'Classification'] = 1 #democrat\n",
    "    else:\n",
    "        election_2016.loc[each, 'Classification'] = 0 #republican"
   ]
  },
  {
   "cell_type": "markdown",
   "metadata": {},
   "source": [
    "### Importing and manipulating 2008 Election Data"
   ]
  },
  {
   "cell_type": "code",
   "execution_count": 3,
   "metadata": {},
   "outputs": [],
   "source": [
    "df2 = pd.read_excel ('election_results_2008.xlsx')\n",
    "\n",
    "election_2008 = df2.drop(columns = ['TotalPrecincts', 'PrecinctsReporting', 'Other'])\n",
    "\n",
    "for each in range(0,67):\n",
    "    if election_2008.loc[each, 'Obama'] > election_2008.loc[each,'McCain']:\n",
    "        election_2008.loc[each, 'Classification'] = 1 #democrat\n",
    "    else:\n",
    "        election_2008.loc[each, 'Classification'] = 0 #republican"
   ]
  },
  {
   "cell_type": "markdown",
   "metadata": {},
   "source": [
    "#### Take a peek at what the original data looked like, and then what it looked like after dropping some columns, and adding a classification column:"
   ]
  },
  {
   "cell_type": "code",
   "execution_count": 4,
   "metadata": {},
   "outputs": [
    {
     "data": {
      "text/html": [
       "<div>\n",
       "<style scoped>\n",
       "    .dataframe tbody tr th:only-of-type {\n",
       "        vertical-align: middle;\n",
       "    }\n",
       "\n",
       "    .dataframe tbody tr th {\n",
       "        vertical-align: top;\n",
       "    }\n",
       "\n",
       "    .dataframe thead th {\n",
       "        text-align: right;\n",
       "    }\n",
       "</style>\n",
       "<table border=\"1\" class=\"dataframe\">\n",
       "  <thead>\n",
       "    <tr style=\"text-align: right;\">\n",
       "      <th></th>\n",
       "      <th>Clinton</th>\n",
       "      <th>Trump</th>\n",
       "      <th>Rpt</th>\n",
       "      <th>State</th>\n",
       "      <th>Vote by county</th>\n",
       "      <th>Vote by town</th>\n",
       "      <th>Place</th>\n",
       "    </tr>\n",
       "  </thead>\n",
       "  <tbody>\n",
       "    <tr>\n",
       "      <th>0</th>\n",
       "      <td>151581</td>\n",
       "      <td>130614</td>\n",
       "      <td>100</td>\n",
       "      <td>Alabama</td>\n",
       "      <td>Jefferson</td>\n",
       "      <td>NaN</td>\n",
       "      <td>Jefferson</td>\n",
       "    </tr>\n",
       "    <tr>\n",
       "      <th>1</th>\n",
       "      <td>68429</td>\n",
       "      <td>91087</td>\n",
       "      <td>100</td>\n",
       "      <td>Alabama</td>\n",
       "      <td>Mobile</td>\n",
       "      <td>NaN</td>\n",
       "      <td>Mobile</td>\n",
       "    </tr>\n",
       "    <tr>\n",
       "      <th>2</th>\n",
       "      <td>62435</td>\n",
       "      <td>89199</td>\n",
       "      <td>100</td>\n",
       "      <td>Alabama</td>\n",
       "      <td>Madison</td>\n",
       "      <td>NaN</td>\n",
       "      <td>Madison</td>\n",
       "    </tr>\n",
       "    <tr>\n",
       "      <th>3</th>\n",
       "      <td>22927</td>\n",
       "      <td>72846</td>\n",
       "      <td>100</td>\n",
       "      <td>Alabama</td>\n",
       "      <td>Shelby</td>\n",
       "      <td>NaN</td>\n",
       "      <td>Shelby</td>\n",
       "    </tr>\n",
       "    <tr>\n",
       "      <th>4</th>\n",
       "      <td>58669</td>\n",
       "      <td>33928</td>\n",
       "      <td>100</td>\n",
       "      <td>Alabama</td>\n",
       "      <td>Montgomery</td>\n",
       "      <td>NaN</td>\n",
       "      <td>Montgomery</td>\n",
       "    </tr>\n",
       "  </tbody>\n",
       "</table>\n",
       "</div>"
      ],
      "text/plain": [
       "   Clinton   Trump  Rpt    State Vote by county Vote by town       Place\n",
       "0   151581  130614  100  Alabama      Jefferson          NaN   Jefferson\n",
       "1    68429   91087  100  Alabama         Mobile          NaN      Mobile\n",
       "2    62435   89199  100  Alabama        Madison          NaN     Madison\n",
       "3    22927   72846  100  Alabama         Shelby          NaN      Shelby\n",
       "4    58669   33928  100  Alabama     Montgomery          NaN  Montgomery"
      ]
     },
     "execution_count": 4,
     "metadata": {},
     "output_type": "execute_result"
    }
   ],
   "source": [
    "# peek at what the original election data included\n",
    "df.head()"
   ]
  },
  {
   "cell_type": "code",
   "execution_count": 5,
   "metadata": {},
   "outputs": [
    {
     "data": {
      "text/html": [
       "<div>\n",
       "<style scoped>\n",
       "    .dataframe tbody tr th:only-of-type {\n",
       "        vertical-align: middle;\n",
       "    }\n",
       "\n",
       "    .dataframe tbody tr th {\n",
       "        vertical-align: top;\n",
       "    }\n",
       "\n",
       "    .dataframe thead th {\n",
       "        text-align: right;\n",
       "    }\n",
       "</style>\n",
       "<table border=\"1\" class=\"dataframe\">\n",
       "  <thead>\n",
       "    <tr style=\"text-align: right;\">\n",
       "      <th></th>\n",
       "      <th>Clinton</th>\n",
       "      <th>Trump</th>\n",
       "      <th>Vote by county</th>\n",
       "      <th>Classification</th>\n",
       "    </tr>\n",
       "  </thead>\n",
       "  <tbody>\n",
       "    <tr>\n",
       "      <th>451</th>\n",
       "      <td>623006</td>\n",
       "      <td>333666</td>\n",
       "      <td>Miami-Dade</td>\n",
       "      <td>1.0</td>\n",
       "    </tr>\n",
       "    <tr>\n",
       "      <th>452</th>\n",
       "      <td>546956</td>\n",
       "      <td>258521</td>\n",
       "      <td>Broward</td>\n",
       "      <td>1.0</td>\n",
       "    </tr>\n",
       "    <tr>\n",
       "      <th>453</th>\n",
       "      <td>371411</td>\n",
       "      <td>270762</td>\n",
       "      <td>Palm Beach</td>\n",
       "      <td>1.0</td>\n",
       "    </tr>\n",
       "    <tr>\n",
       "      <th>454</th>\n",
       "      <td>306422</td>\n",
       "      <td>265928</td>\n",
       "      <td>Hillsborough</td>\n",
       "      <td>1.0</td>\n",
       "    </tr>\n",
       "    <tr>\n",
       "      <th>455</th>\n",
       "      <td>329579</td>\n",
       "      <td>195091</td>\n",
       "      <td>Orange</td>\n",
       "      <td>1.0</td>\n",
       "    </tr>\n",
       "  </tbody>\n",
       "</table>\n",
       "</div>"
      ],
      "text/plain": [
       "     Clinton   Trump Vote by county  Classification\n",
       "451   623006  333666     Miami-Dade             1.0\n",
       "452   546956  258521        Broward             1.0\n",
       "453   371411  270762     Palm Beach             1.0\n",
       "454   306422  265928   Hillsborough             1.0\n",
       "455   329579  195091         Orange             1.0"
      ]
     },
     "execution_count": 5,
     "metadata": {},
     "output_type": "execute_result"
    }
   ],
   "source": [
    "# view data after adding a classification column\n",
    "election_2016.head()"
   ]
  },
  {
   "cell_type": "markdown",
   "metadata": {},
   "source": [
    "### Importing and Manipulating Demographic Data"
   ]
  },
  {
   "cell_type": "markdown",
   "metadata": {},
   "source": [
    "#### This data set included information from several years and we wanted to only include data from the years we were interested in"
   ]
  },
  {
   "cell_type": "code",
   "execution_count": 6,
   "metadata": {},
   "outputs": [],
   "source": [
    "flo_demo = pd.read_excel(\"Florida_Demo.xlsx\")"
   ]
  },
  {
   "cell_type": "code",
   "execution_count": 7,
   "metadata": {},
   "outputs": [],
   "source": [
    "#including specific instances in each data set\n",
    "yr_2008 = flo_demo['YEAR']==1\n",
    "yr_2016 = flo_demo['YEAR']==9\n",
    "yr_2018 = flo_demo['YEAR']==11\n",
    "age_all = flo_demo['AGEGRP']==0\n",
    "\n",
    "demo_2008 = flo_demo[yr_2008 & age_all]\n",
    "demo_2016 = flo_demo[yr_2016 & age_all]\n",
    "# demo_both = flo_demo[(yr_2016 | yr_2008) & age_all]"
   ]
  },
  {
   "cell_type": "code",
   "execution_count": 8,
   "metadata": {},
   "outputs": [],
   "source": [
    "# data we will be predicting on:\n",
    "demo_predict = flo_demo[yr_2018 & age_all]"
   ]
  },
  {
   "cell_type": "code",
   "execution_count": 9,
   "metadata": {},
   "outputs": [],
   "source": [
    "# len(demo_predict)\n"
   ]
  },
  {
   "cell_type": "markdown",
   "metadata": {},
   "source": [
    "## Further Manipulation of the Data: "
   ]
  },
  {
   "cell_type": "markdown",
   "metadata": {},
   "source": [
    "#### Here we are removing unnecessary columns and inconsistencies in the data (ex: \"County\" was spelled differently in the two data sets that we are going to merge) "
   ]
  },
  {
   "cell_type": "code",
   "execution_count": 10,
   "metadata": {},
   "outputs": [],
   "source": [
    "new_demo_2008 = pd.DataFrame(demo_2008, columns = ['STATE', 'COUNTY', 'STNAME', 'CTYNAME',\n",
    "                                                                          'YEAR','AGEGRP', 'TOT_POP', 'TOT_MALE',\n",
    "                                                                            'TOT_FEMALE','BA_MALE', 'BA_FEMALE',\n",
    "                                                                          'AA_MALE', 'AA_FEMALE','NH_MALE',\n",
    "                                                                          'NH_FEMALE', 'H_MALE', 'H_FEMALE',\n",
    "                                                                         'WA_MALE', 'WA_FEMALE'])\n",
    "new_demo_2008 = new_demo_2008.reset_index()\n",
    "for each in range(0,67):\n",
    "    new_demo_2008.loc[each, 'CTYNAME'] = new_demo_2008.loc[each, 'CTYNAME'].replace(\" County\", \"\")"
   ]
  },
  {
   "cell_type": "code",
   "execution_count": 11,
   "metadata": {},
   "outputs": [],
   "source": [
    "new_demo_2016 = pd.DataFrame(demo_2016, columns = ['STATE', 'COUNTY', 'STNAME', 'CTYNAME',\n",
    "                                                                          'YEAR','AGEGRP', 'TOT_POP', 'TOT_MALE',\n",
    "                                                                            'TOT_FEMALE','BA_MALE', 'BA_FEMALE',\n",
    "                                                                          'AA_MALE', 'AA_FEMALE','NH_MALE',\n",
    "                                                                          'NH_FEMALE', 'H_MALE', 'H_FEMALE',\n",
    "                                                                         'WA_MALE', 'WA_FEMALE'])\n",
    "new_demo_2016 = new_demo_2016.reset_index()\n",
    "for each in range(0,67):\n",
    "    new_demo_2016.loc[each, 'CTYNAME'] = new_demo_2016.loc[each, 'CTYNAME'].replace(\" County\", \"\")"
   ]
  },
  {
   "cell_type": "code",
   "execution_count": 12,
   "metadata": {},
   "outputs": [],
   "source": [
    "new_demo_predict = pd.DataFrame(demo_predict, columns = ['STATE', 'COUNTY', 'STNAME', 'CTYNAME',\n",
    "                                                                          'YEAR','AGEGRP', 'TOT_POP', 'TOT_MALE',\n",
    "                                                                            'TOT_FEMALE','BA_MALE', 'BA_FEMALE',\n",
    "                                                                          'AA_MALE', 'AA_FEMALE','NH_MALE',\n",
    "                                                                          'NH_FEMALE', 'H_MALE', 'H_FEMALE',\n",
    "                                                                         'WA_MALE', 'WA_FEMALE'])\n",
    "new_demo_predict = new_demo_predict.reset_index()\n",
    "for each in range(0,67):\n",
    "    new_demo_predict.loc[each, 'CTYNAME'] = new_demo_predict.loc[each, 'CTYNAME'].replace(\" County\", \"\")"
   ]
  },
  {
   "cell_type": "markdown",
   "metadata": {},
   "source": [
    "#### Peek at the data again: notice the last column does not include \"CLASS\""
   ]
  },
  {
   "cell_type": "code",
   "execution_count": 13,
   "metadata": {},
   "outputs": [
    {
     "data": {
      "text/html": [
       "<div>\n",
       "<style scoped>\n",
       "    .dataframe tbody tr th:only-of-type {\n",
       "        vertical-align: middle;\n",
       "    }\n",
       "\n",
       "    .dataframe tbody tr th {\n",
       "        vertical-align: top;\n",
       "    }\n",
       "\n",
       "    .dataframe thead th {\n",
       "        text-align: right;\n",
       "    }\n",
       "</style>\n",
       "<table border=\"1\" class=\"dataframe\">\n",
       "  <thead>\n",
       "    <tr style=\"text-align: right;\">\n",
       "      <th></th>\n",
       "      <th>index</th>\n",
       "      <th>STATE</th>\n",
       "      <th>COUNTY</th>\n",
       "      <th>STNAME</th>\n",
       "      <th>CTYNAME</th>\n",
       "      <th>YEAR</th>\n",
       "      <th>AGEGRP</th>\n",
       "      <th>TOT_POP</th>\n",
       "      <th>TOT_MALE</th>\n",
       "      <th>TOT_FEMALE</th>\n",
       "      <th>BA_MALE</th>\n",
       "      <th>BA_FEMALE</th>\n",
       "      <th>AA_MALE</th>\n",
       "      <th>AA_FEMALE</th>\n",
       "      <th>NH_MALE</th>\n",
       "      <th>NH_FEMALE</th>\n",
       "      <th>H_MALE</th>\n",
       "      <th>H_FEMALE</th>\n",
       "      <th>WA_MALE</th>\n",
       "      <th>WA_FEMALE</th>\n",
       "    </tr>\n",
       "  </thead>\n",
       "  <tbody>\n",
       "    <tr>\n",
       "      <th>0</th>\n",
       "      <td>0</td>\n",
       "      <td>12</td>\n",
       "      <td>1</td>\n",
       "      <td>Florida</td>\n",
       "      <td>Alachua</td>\n",
       "      <td>1</td>\n",
       "      <td>0</td>\n",
       "      <td>247336</td>\n",
       "      <td>119786</td>\n",
       "      <td>127550</td>\n",
       "      <td>23663</td>\n",
       "      <td>27135</td>\n",
       "      <td>6680</td>\n",
       "      <td>6865</td>\n",
       "      <td>109756</td>\n",
       "      <td>116828</td>\n",
       "      <td>10030</td>\n",
       "      <td>10722</td>\n",
       "      <td>86242</td>\n",
       "      <td>90127</td>\n",
       "    </tr>\n",
       "    <tr>\n",
       "      <th>1</th>\n",
       "      <td>209</td>\n",
       "      <td>12</td>\n",
       "      <td>3</td>\n",
       "      <td>Florida</td>\n",
       "      <td>Baker</td>\n",
       "      <td>1</td>\n",
       "      <td>0</td>\n",
       "      <td>27115</td>\n",
       "      <td>14160</td>\n",
       "      <td>12955</td>\n",
       "      <td>2286</td>\n",
       "      <td>1411</td>\n",
       "      <td>67</td>\n",
       "      <td>71</td>\n",
       "      <td>13870</td>\n",
       "      <td>12725</td>\n",
       "      <td>290</td>\n",
       "      <td>230</td>\n",
       "      <td>11601</td>\n",
       "      <td>11220</td>\n",
       "    </tr>\n",
       "    <tr>\n",
       "      <th>2</th>\n",
       "      <td>418</td>\n",
       "      <td>12</td>\n",
       "      <td>5</td>\n",
       "      <td>Florida</td>\n",
       "      <td>Bay</td>\n",
       "      <td>1</td>\n",
       "      <td>0</td>\n",
       "      <td>168852</td>\n",
       "      <td>83656</td>\n",
       "      <td>85196</td>\n",
       "      <td>9058</td>\n",
       "      <td>9350</td>\n",
       "      <td>1373</td>\n",
       "      <td>2068</td>\n",
       "      <td>79463</td>\n",
       "      <td>81282</td>\n",
       "      <td>4193</td>\n",
       "      <td>3914</td>\n",
       "      <td>70181</td>\n",
       "      <td>70717</td>\n",
       "    </tr>\n",
       "    <tr>\n",
       "      <th>3</th>\n",
       "      <td>627</td>\n",
       "      <td>12</td>\n",
       "      <td>7</td>\n",
       "      <td>Florida</td>\n",
       "      <td>Bradford</td>\n",
       "      <td>1</td>\n",
       "      <td>0</td>\n",
       "      <td>28520</td>\n",
       "      <td>16010</td>\n",
       "      <td>12510</td>\n",
       "      <td>3944</td>\n",
       "      <td>1914</td>\n",
       "      <td>62</td>\n",
       "      <td>94</td>\n",
       "      <td>15264</td>\n",
       "      <td>12236</td>\n",
       "      <td>746</td>\n",
       "      <td>274</td>\n",
       "      <td>11758</td>\n",
       "      <td>10238</td>\n",
       "    </tr>\n",
       "    <tr>\n",
       "      <th>4</th>\n",
       "      <td>836</td>\n",
       "      <td>12</td>\n",
       "      <td>9</td>\n",
       "      <td>Florida</td>\n",
       "      <td>Brevard</td>\n",
       "      <td>1</td>\n",
       "      <td>0</td>\n",
       "      <td>543376</td>\n",
       "      <td>266242</td>\n",
       "      <td>277134</td>\n",
       "      <td>27255</td>\n",
       "      <td>28977</td>\n",
       "      <td>4899</td>\n",
       "      <td>6842</td>\n",
       "      <td>244765</td>\n",
       "      <td>254668</td>\n",
       "      <td>21477</td>\n",
       "      <td>22466</td>\n",
       "      <td>226404</td>\n",
       "      <td>233570</td>\n",
       "    </tr>\n",
       "  </tbody>\n",
       "</table>\n",
       "</div>"
      ],
      "text/plain": [
       "   index  STATE  COUNTY   STNAME   CTYNAME  YEAR  AGEGRP  TOT_POP  TOT_MALE  \\\n",
       "0      0     12       1  Florida   Alachua     1       0   247336    119786   \n",
       "1    209     12       3  Florida     Baker     1       0    27115     14160   \n",
       "2    418     12       5  Florida       Bay     1       0   168852     83656   \n",
       "3    627     12       7  Florida  Bradford     1       0    28520     16010   \n",
       "4    836     12       9  Florida   Brevard     1       0   543376    266242   \n",
       "\n",
       "   TOT_FEMALE  BA_MALE  BA_FEMALE  AA_MALE  AA_FEMALE  NH_MALE  NH_FEMALE  \\\n",
       "0      127550    23663      27135     6680       6865   109756     116828   \n",
       "1       12955     2286       1411       67         71    13870      12725   \n",
       "2       85196     9058       9350     1373       2068    79463      81282   \n",
       "3       12510     3944       1914       62         94    15264      12236   \n",
       "4      277134    27255      28977     4899       6842   244765     254668   \n",
       "\n",
       "   H_MALE  H_FEMALE  WA_MALE  WA_FEMALE  \n",
       "0   10030     10722    86242      90127  \n",
       "1     290       230    11601      11220  \n",
       "2    4193      3914    70181      70717  \n",
       "3     746       274    11758      10238  \n",
       "4   21477     22466   226404     233570  "
      ]
     },
     "execution_count": 13,
     "metadata": {},
     "output_type": "execute_result"
    }
   ],
   "source": [
    "new_demo_2008.head()\n",
    "# new_demo_2016.head()\n",
    "# new_demo_predict.head()"
   ]
  },
  {
   "cell_type": "markdown",
   "metadata": {},
   "source": [
    "## Add the \"Class\" column to the data aka merge the data frames"
   ]
  },
  {
   "cell_type": "code",
   "execution_count": 14,
   "metadata": {},
   "outputs": [],
   "source": [
    "# Table for 2008 Data\n",
    "new_demo_2008['CLASS'] = None\n",
    "\n",
    "for each in range(0,67):\n",
    "    for i in range(0,67):\n",
    "        if new_demo_2008.loc[each, 'CTYNAME'] == election_2008.loc[i, 'County']:\n",
    "            new_demo_2008.loc[each, 'CLASS'] = election_2008.loc[i, 'Classification']"
   ]
  },
  {
   "cell_type": "code",
   "execution_count": 15,
   "metadata": {},
   "outputs": [],
   "source": [
    "# Table for 2016 Data\n",
    "new_demo_2016['CLASS'] = None\n",
    "\n",
    "for each in range(0,67):\n",
    "    for i in range(451,518):\n",
    "        if new_demo_2016.loc[each, 'CTYNAME'] == election_2016.loc[i, 'Vote by county']:\n",
    "            new_demo_2016.loc[each, 'CLASS'] = election_2016.loc[i, 'Classification']"
   ]
  },
  {
   "cell_type": "markdown",
   "metadata": {},
   "source": [
    "#### Peek at the data and notice the last column: \"CLASS\" is now included"
   ]
  },
  {
   "cell_type": "code",
   "execution_count": 16,
   "metadata": {},
   "outputs": [
    {
     "data": {
      "text/html": [
       "<div>\n",
       "<style scoped>\n",
       "    .dataframe tbody tr th:only-of-type {\n",
       "        vertical-align: middle;\n",
       "    }\n",
       "\n",
       "    .dataframe tbody tr th {\n",
       "        vertical-align: top;\n",
       "    }\n",
       "\n",
       "    .dataframe thead th {\n",
       "        text-align: right;\n",
       "    }\n",
       "</style>\n",
       "<table border=\"1\" class=\"dataframe\">\n",
       "  <thead>\n",
       "    <tr style=\"text-align: right;\">\n",
       "      <th></th>\n",
       "      <th>index</th>\n",
       "      <th>STATE</th>\n",
       "      <th>COUNTY</th>\n",
       "      <th>STNAME</th>\n",
       "      <th>CTYNAME</th>\n",
       "      <th>YEAR</th>\n",
       "      <th>AGEGRP</th>\n",
       "      <th>TOT_POP</th>\n",
       "      <th>TOT_MALE</th>\n",
       "      <th>TOT_FEMALE</th>\n",
       "      <th>...</th>\n",
       "      <th>BA_FEMALE</th>\n",
       "      <th>AA_MALE</th>\n",
       "      <th>AA_FEMALE</th>\n",
       "      <th>NH_MALE</th>\n",
       "      <th>NH_FEMALE</th>\n",
       "      <th>H_MALE</th>\n",
       "      <th>H_FEMALE</th>\n",
       "      <th>WA_MALE</th>\n",
       "      <th>WA_FEMALE</th>\n",
       "      <th>CLASS</th>\n",
       "    </tr>\n",
       "  </thead>\n",
       "  <tbody>\n",
       "    <tr>\n",
       "      <th>0</th>\n",
       "      <td>152</td>\n",
       "      <td>12</td>\n",
       "      <td>1</td>\n",
       "      <td>Florida</td>\n",
       "      <td>Alachua</td>\n",
       "      <td>9</td>\n",
       "      <td>0</td>\n",
       "      <td>264287</td>\n",
       "      <td>127981</td>\n",
       "      <td>136306</td>\n",
       "      <td>...</td>\n",
       "      <td>29311</td>\n",
       "      <td>7879</td>\n",
       "      <td>8011</td>\n",
       "      <td>115784</td>\n",
       "      <td>123241</td>\n",
       "      <td>12197</td>\n",
       "      <td>13065</td>\n",
       "      <td>90631</td>\n",
       "      <td>94853</td>\n",
       "      <td>1</td>\n",
       "    </tr>\n",
       "    <tr>\n",
       "      <th>1</th>\n",
       "      <td>361</td>\n",
       "      <td>12</td>\n",
       "      <td>3</td>\n",
       "      <td>Florida</td>\n",
       "      <td>Baker</td>\n",
       "      <td>9</td>\n",
       "      <td>0</td>\n",
       "      <td>27872</td>\n",
       "      <td>14638</td>\n",
       "      <td>13234</td>\n",
       "      <td>...</td>\n",
       "      <td>1400</td>\n",
       "      <td>84</td>\n",
       "      <td>97</td>\n",
       "      <td>14251</td>\n",
       "      <td>12940</td>\n",
       "      <td>387</td>\n",
       "      <td>294</td>\n",
       "      <td>11802</td>\n",
       "      <td>11440</td>\n",
       "      <td>0</td>\n",
       "    </tr>\n",
       "    <tr>\n",
       "      <th>2</th>\n",
       "      <td>570</td>\n",
       "      <td>12</td>\n",
       "      <td>5</td>\n",
       "      <td>Florida</td>\n",
       "      <td>Bay</td>\n",
       "      <td>9</td>\n",
       "      <td>0</td>\n",
       "      <td>183384</td>\n",
       "      <td>91361</td>\n",
       "      <td>92023</td>\n",
       "      <td>...</td>\n",
       "      <td>10561</td>\n",
       "      <td>1697</td>\n",
       "      <td>2399</td>\n",
       "      <td>85298</td>\n",
       "      <td>86466</td>\n",
       "      <td>6063</td>\n",
       "      <td>5557</td>\n",
       "      <td>75335</td>\n",
       "      <td>75200</td>\n",
       "      <td>0</td>\n",
       "    </tr>\n",
       "    <tr>\n",
       "      <th>3</th>\n",
       "      <td>779</td>\n",
       "      <td>12</td>\n",
       "      <td>7</td>\n",
       "      <td>Florida</td>\n",
       "      <td>Bradford</td>\n",
       "      <td>9</td>\n",
       "      <td>0</td>\n",
       "      <td>26736</td>\n",
       "      <td>14526</td>\n",
       "      <td>12210</td>\n",
       "      <td>...</td>\n",
       "      <td>1885</td>\n",
       "      <td>81</td>\n",
       "      <td>86</td>\n",
       "      <td>13831</td>\n",
       "      <td>11881</td>\n",
       "      <td>695</td>\n",
       "      <td>329</td>\n",
       "      <td>10807</td>\n",
       "      <td>9876</td>\n",
       "      <td>0</td>\n",
       "    </tr>\n",
       "    <tr>\n",
       "      <th>4</th>\n",
       "      <td>988</td>\n",
       "      <td>12</td>\n",
       "      <td>9</td>\n",
       "      <td>Florida</td>\n",
       "      <td>Brevard</td>\n",
       "      <td>9</td>\n",
       "      <td>0</td>\n",
       "      <td>577338</td>\n",
       "      <td>282052</td>\n",
       "      <td>295286</td>\n",
       "      <td>...</td>\n",
       "      <td>32223</td>\n",
       "      <td>6240</td>\n",
       "      <td>8100</td>\n",
       "      <td>253914</td>\n",
       "      <td>265917</td>\n",
       "      <td>28138</td>\n",
       "      <td>29369</td>\n",
       "      <td>237305</td>\n",
       "      <td>245528</td>\n",
       "      <td>0</td>\n",
       "    </tr>\n",
       "  </tbody>\n",
       "</table>\n",
       "<p>5 rows × 21 columns</p>\n",
       "</div>"
      ],
      "text/plain": [
       "   index  STATE  COUNTY   STNAME   CTYNAME  YEAR  AGEGRP  TOT_POP  TOT_MALE  \\\n",
       "0    152     12       1  Florida   Alachua     9       0   264287    127981   \n",
       "1    361     12       3  Florida     Baker     9       0    27872     14638   \n",
       "2    570     12       5  Florida       Bay     9       0   183384     91361   \n",
       "3    779     12       7  Florida  Bradford     9       0    26736     14526   \n",
       "4    988     12       9  Florida   Brevard     9       0   577338    282052   \n",
       "\n",
       "   TOT_FEMALE  ...  BA_FEMALE  AA_MALE  AA_FEMALE  NH_MALE  NH_FEMALE  H_MALE  \\\n",
       "0      136306  ...      29311     7879       8011   115784     123241   12197   \n",
       "1       13234  ...       1400       84         97    14251      12940     387   \n",
       "2       92023  ...      10561     1697       2399    85298      86466    6063   \n",
       "3       12210  ...       1885       81         86    13831      11881     695   \n",
       "4      295286  ...      32223     6240       8100   253914     265917   28138   \n",
       "\n",
       "   H_FEMALE  WA_MALE  WA_FEMALE  CLASS  \n",
       "0     13065    90631      94853      1  \n",
       "1       294    11802      11440      0  \n",
       "2      5557    75335      75200      0  \n",
       "3       329    10807       9876      0  \n",
       "4     29369   237305     245528      0  \n",
       "\n",
       "[5 rows x 21 columns]"
      ]
     },
     "execution_count": 16,
     "metadata": {},
     "output_type": "execute_result"
    }
   ],
   "source": [
    "# new_demo_2008.head()\n",
    "new_demo_2016.head()"
   ]
  },
  {
   "cell_type": "markdown",
   "metadata": {},
   "source": [
    "## Create a combined dataset with all samples (both 2008 and 2016 samples)"
   ]
  },
  {
   "cell_type": "code",
   "execution_count": 18,
   "metadata": {},
   "outputs": [],
   "source": [
    "frames = [new_demo_2008, new_demo_2016]\n",
    "\n",
    "both_data = pd.concat(frames)\n",
    "both_data = both_data.reset_index()"
   ]
  },
  {
   "cell_type": "code",
   "execution_count": 19,
   "metadata": {},
   "outputs": [],
   "source": [
    "# Peek at the data (still has lots of unnecessary columns)\n",
    "# both_data.head()"
   ]
  },
  {
   "cell_type": "markdown",
   "metadata": {},
   "source": [
    "## Visualize Class Separation"
   ]
  },
  {
   "cell_type": "markdown",
   "metadata": {},
   "source": [
    "#### Here we are checking if we have a class imbalance to see how we want to separate the data"
   ]
  },
  {
   "cell_type": "code",
   "execution_count": 20,
   "metadata": {},
   "outputs": [
    {
     "data": {
      "image/png": "[encoded data removed]",
      "text/plain": [
       "<Figure size 432x288 with 1 Axes>"
      ]
     },
     "metadata": {
      "needs_background": "light"
     },
     "output_type": "display_data"
    }
   ],
   "source": [
    "sns.countplot(x = 'CLASS', data = both_data, palette = 'hls')\n",
    "plt.show()"
   ]
  },
  {
   "cell_type": "markdown",
   "metadata": {},
   "source": [
    "## Split Data into test and train splits"
   ]
  },
  {
   "cell_type": "markdown",
   "metadata": {},
   "source": [
    "#### Since we have a class imbalance we are using a stratified split when we split into train and \"test\" sets (\"test\" is truly a validation set since we have a held out set we will be using later)"
   ]
  },
  {
   "cell_type": "code",
   "execution_count": 21,
   "metadata": {},
   "outputs": [],
   "source": [
    "split = StratifiedShuffleSplit(n_splits=1, test_size=0.3, random_state=142) #42\n",
    "\n",
    "for train_index, test_index in split.split(both_data, both_data['CLASS']):\n",
    "    train_set = both_data.loc[train_index]\n",
    "    test_set = both_data.loc[test_index]"
   ]
  },
  {
   "cell_type": "code",
   "execution_count": 22,
   "metadata": {},
   "outputs": [],
   "source": [
    "# Only include columns that are needed and separate the data into training and test\n",
    "training_x = train_set.drop(['level_0','index','STATE','COUNTY','CTYNAME','AGEGRP','YEAR', 'STNAME','CLASS'], axis=1)\n",
    "training_y = train_set[['CLASS']].copy()\n",
    "\n",
    "testing_x = test_set.drop(['level_0','index','STATE','COUNTY','CTYNAME','AGEGRP','YEAR', 'STNAME','CLASS'], axis=1)\n",
    "testing_y = test_set[['CLASS']].copy()"
   ]
  },
  {
   "cell_type": "markdown",
   "metadata": {},
   "source": [
    "#### Peek at the data we will be using to train and \"test\""
   ]
  },
  {
   "cell_type": "code",
   "execution_count": 87,
   "metadata": {},
   "outputs": [
    {
     "data": {
      "text/html": [
       "<div>\n",
       "<style scoped>\n",
       "    .dataframe tbody tr th:only-of-type {\n",
       "        vertical-align: middle;\n",
       "    }\n",
       "\n",
       "    .dataframe tbody tr th {\n",
       "        vertical-align: top;\n",
       "    }\n",
       "\n",
       "    .dataframe thead th {\n",
       "        text-align: right;\n",
       "    }\n",
       "</style>\n",
       "<table border=\"1\" class=\"dataframe\">\n",
       "  <thead>\n",
       "    <tr style=\"text-align: right;\">\n",
       "      <th></th>\n",
       "      <th>TOT_POP</th>\n",
       "      <th>TOT_MALE</th>\n",
       "      <th>TOT_FEMALE</th>\n",
       "      <th>BA_MALE</th>\n",
       "      <th>BA_FEMALE</th>\n",
       "      <th>AA_MALE</th>\n",
       "      <th>AA_FEMALE</th>\n",
       "      <th>NH_MALE</th>\n",
       "      <th>NH_FEMALE</th>\n",
       "      <th>H_MALE</th>\n",
       "      <th>H_FEMALE</th>\n",
       "      <th>WA_MALE</th>\n",
       "      <th>WA_FEMALE</th>\n",
       "    </tr>\n",
       "  </thead>\n",
       "  <tbody>\n",
       "    <tr>\n",
       "      <th>112</th>\n",
       "      <td>200260</td>\n",
       "      <td>101591</td>\n",
       "      <td>98669</td>\n",
       "      <td>10857</td>\n",
       "      <td>9469</td>\n",
       "      <td>2349</td>\n",
       "      <td>3946</td>\n",
       "      <td>92325</td>\n",
       "      <td>89933</td>\n",
       "      <td>9266</td>\n",
       "      <td>8736</td>\n",
       "      <td>83210</td>\n",
       "      <td>80214</td>\n",
       "    </tr>\n",
       "    <tr>\n",
       "      <th>122</th>\n",
       "      <td>305837</td>\n",
       "      <td>149568</td>\n",
       "      <td>156269</td>\n",
       "      <td>30428</td>\n",
       "      <td>32662</td>\n",
       "      <td>2473</td>\n",
       "      <td>3334</td>\n",
       "      <td>121170</td>\n",
       "      <td>128231</td>\n",
       "      <td>28398</td>\n",
       "      <td>28038</td>\n",
       "      <td>112327</td>\n",
       "      <td>115925</td>\n",
       "    </tr>\n",
       "    <tr>\n",
       "      <th>120</th>\n",
       "      <td>72378</td>\n",
       "      <td>35766</td>\n",
       "      <td>36612</td>\n",
       "      <td>5628</td>\n",
       "      <td>6230</td>\n",
       "      <td>203</td>\n",
       "      <td>257</td>\n",
       "      <td>32018</td>\n",
       "      <td>33211</td>\n",
       "      <td>3748</td>\n",
       "      <td>3401</td>\n",
       "      <td>29026</td>\n",
       "      <td>29213</td>\n",
       "    </tr>\n",
       "    <tr>\n",
       "      <th>100</th>\n",
       "      <td>334748</td>\n",
       "      <td>161915</td>\n",
       "      <td>172833</td>\n",
       "      <td>17542</td>\n",
       "      <td>19043</td>\n",
       "      <td>3247</td>\n",
       "      <td>4097</td>\n",
       "      <td>136812</td>\n",
       "      <td>148029</td>\n",
       "      <td>25103</td>\n",
       "      <td>24804</td>\n",
       "      <td>136619</td>\n",
       "      <td>144935</td>\n",
       "    </tr>\n",
       "    <tr>\n",
       "      <th>53</th>\n",
       "      <td>74364</td>\n",
       "      <td>36884</td>\n",
       "      <td>37480</td>\n",
       "      <td>5857</td>\n",
       "      <td>6336</td>\n",
       "      <td>191</td>\n",
       "      <td>270</td>\n",
       "      <td>33297</td>\n",
       "      <td>34361</td>\n",
       "      <td>3587</td>\n",
       "      <td>3119</td>\n",
       "      <td>30056</td>\n",
       "      <td>30058</td>\n",
       "    </tr>\n",
       "  </tbody>\n",
       "</table>\n",
       "</div>"
      ],
      "text/plain": [
       "     TOT_POP  TOT_MALE  TOT_FEMALE  BA_MALE  BA_FEMALE  AA_MALE  AA_FEMALE  \\\n",
       "112   200260    101591       98669    10857       9469     2349       3946   \n",
       "122   305837    149568      156269    30428      32662     2473       3334   \n",
       "120    72378     35766       36612     5628       6230      203        257   \n",
       "100   334748    161915      172833    17542      19043     3247       4097   \n",
       "53     74364     36884       37480     5857       6336      191        270   \n",
       "\n",
       "     NH_MALE  NH_FEMALE  H_MALE  H_FEMALE  WA_MALE  WA_FEMALE  \n",
       "112    92325      89933    9266      8736    83210      80214  \n",
       "122   121170     128231   28398     28038   112327     115925  \n",
       "120    32018      33211    3748      3401    29026      29213  \n",
       "100   136812     148029   25103     24804   136619     144935  \n",
       "53     33297      34361    3587      3119    30056      30058  "
      ]
     },
     "execution_count": 87,
     "metadata": {},
     "output_type": "execute_result"
    }
   ],
   "source": [
    "training_x.head()\n",
    "# training_y.head()"
   ]
  },
  {
   "cell_type": "markdown",
   "metadata": {},
   "source": [
    "## Exploratory analysis: Visualizing the distribution of data using one feature, with hue based on true class labels"
   ]
  },
  {
   "cell_type": "markdown",
   "metadata": {},
   "source": [
    "#### Here we were just interested in how the data separated"
   ]
  },
  {
   "cell_type": "code",
   "execution_count": 24,
   "metadata": {
    "scrolled": false
   },
   "outputs": [
    {
     "data": {
      "image/png": "[encoded data removed]",
      "text/plain": [
       "<Figure size 720x432 with 1 Axes>"
      ]
     },
     "metadata": {
      "needs_background": "light"
     },
     "output_type": "display_data"
    }
   ],
   "source": [
    "democrat = both_data.loc[both_data['CLASS'] == 1,:]\n",
    "republican = both_data.loc[both_data['CLASS'] == 0,:]\n",
    "feat_name = 'TOT_POP'\n",
    "# Create the holder for the plots\n",
    "f, ax = plt.subplots(figsize=(10,6))\n",
    "\n",
    "d_counts, d_bins, _ = ax.hist(democrat[feat_name], density=True, alpha=.8, label=\"Democrat\", bins=10, edgecolor='k')\n",
    "r_counts, r_bins, _ = ax.hist(republican[feat_name], density=True, alpha=.8, label=\"Republican\",  bins=10, edgecolor='k')\n",
    "\n",
    "d_counts = np.append(d_counts, [0])\n",
    "r_counts = np.append(r_counts, [0])\n",
    "\n",
    "ax.set(xlabel=r'$x$: '+feat_name,\n",
    "       ylabel=r'$p(x|\\omega_{j})$',\n",
    "       title='Probability Density Function (PDF) for '+feat_name)\n",
    "\n",
    "ax.legend(frameon=True)\n",
    "ax.grid(linestyle=':')\n",
    "plt.tight_layout()\n",
    "\n",
    "plt.show()"
   ]
  },
  {
   "cell_type": "markdown",
   "metadata": {},
   "source": [
    "# Begin training and validating classifiers"
   ]
  },
  {
   "cell_type": "markdown",
   "metadata": {},
   "source": [
    "## Creating a table for average accuracy"
   ]
  },
  {
   "cell_type": "markdown",
   "metadata": {},
   "source": [
    "#### For each classifier we trained we found the average accuracy and added it to the table, which is shown at the end to summarize the performances of each classifier."
   ]
  },
  {
   "cell_type": "code",
   "execution_count": 25,
   "metadata": {},
   "outputs": [
    {
     "data": {
      "text/html": [
       "<div>\n",
       "<style scoped>\n",
       "    .dataframe tbody tr th:only-of-type {\n",
       "        vertical-align: middle;\n",
       "    }\n",
       "\n",
       "    .dataframe tbody tr th {\n",
       "        vertical-align: top;\n",
       "    }\n",
       "\n",
       "    .dataframe thead th {\n",
       "        text-align: right;\n",
       "    }\n",
       "</style>\n",
       "<table border=\"1\" class=\"dataframe\">\n",
       "  <thead>\n",
       "    <tr style=\"text-align: right;\">\n",
       "      <th></th>\n",
       "      <th>Classifier</th>\n",
       "      <th>Percent_Avg_Accuracy</th>\n",
       "    </tr>\n",
       "  </thead>\n",
       "  <tbody>\n",
       "  </tbody>\n",
       "</table>\n",
       "</div>"
      ],
      "text/plain": [
       "Empty DataFrame\n",
       "Columns: [Classifier, Percent_Avg_Accuracy]\n",
       "Index: []"
      ]
     },
     "execution_count": 25,
     "metadata": {},
     "output_type": "execute_result"
    }
   ],
   "source": [
    "avg_accuracy = pd.DataFrame(columns = [\"Classifier\", \"Percent_Avg_Accuracy\"])\n",
    "avg_accuracy.head()"
   ]
  },
  {
   "cell_type": "markdown",
   "metadata": {},
   "source": [
    "## Naive Bayes Classifier"
   ]
  },
  {
   "cell_type": "code",
   "execution_count": 26,
   "metadata": {},
   "outputs": [],
   "source": [
    "from sklearn.naive_bayes import GaussianNB\n",
    "gnb = GaussianNB()\n",
    "gnb.fit(training_x, np.ravel(training_y))\n",
    "y_pred_NB = gnb.predict(testing_x)"
   ]
  },
  {
   "cell_type": "code",
   "execution_count": 29,
   "metadata": {},
   "outputs": [
    {
     "name": "stdout",
     "output_type": "stream",
     "text": [
      "Average Accuracy = 85.83 %\n"
     ]
    }
   ],
   "source": [
    "scores = cross_val_score(gnb, testing_x, np.ravel(testing_y), cv=5)\n",
    "avg = round((sum(scores)/5)*100, 2)\n",
    "print('Average Accuracy =',  avg, '%')\n",
    "avg_accuracy = avg_accuracy.append({'Classifier': 'Naive Bayes', 'Percent_Avg_Accuracy': avg}, ignore_index=True)"
   ]
  },
  {
   "cell_type": "markdown",
   "metadata": {},
   "source": [
    "## Logistic Regression Classifier\n"
   ]
  },
  {
   "cell_type": "code",
   "execution_count": 30,
   "metadata": {},
   "outputs": [],
   "source": [
    "from sklearn.linear_model import LogisticRegression\n",
    "from sklearn.metrics import classification_report, confusion_matrix"
   ]
  },
  {
   "cell_type": "code",
   "execution_count": 31,
   "metadata": {},
   "outputs": [],
   "source": [
    "log_model = LogisticRegression(solver='liblinear', random_state=0)\n",
    "y_pred_log = log_model.fit(training_x,np.ravel(training_y)).predict(testing_x)"
   ]
  },
  {
   "cell_type": "code",
   "execution_count": 34,
   "metadata": {},
   "outputs": [
    {
     "name": "stdout",
     "output_type": "stream",
     "text": [
      "Average Accuracy = 89.92 %\n"
     ]
    }
   ],
   "source": [
    "scores = cross_val_score(log_model, testing_x, np.ravel(testing_y), cv=5)\n",
    "avg = round((sum(scores)/5)*100, 2)\n",
    "print('Average Accuracy =',  avg, '%')\n",
    "avg_accuracy = avg_accuracy.append({'Classifier': 'Logistic1', 'Percent_Avg_Accuracy': avg}, ignore_index=True)"
   ]
  },
  {
   "cell_type": "markdown",
   "metadata": {},
   "source": [
    "# After some thought we decided we should have scaled the data before creating any models, so we turned all the data into percentages and then ran the models again. "
   ]
  },
  {
   "cell_type": "code",
   "execution_count": 35,
   "metadata": {},
   "outputs": [],
   "source": [
    "norm_data = both_data.drop(['level_0','index','STATE','COUNTY','CTYNAME','AGEGRP','YEAR', 'STNAME'], axis=1)"
   ]
  },
  {
   "cell_type": "code",
   "execution_count": 36,
   "metadata": {},
   "outputs": [],
   "source": [
    "norm_data[['TOT_MALE', 'TOT_FEMALE', 'BA_MALE', 'BA_FEMALE', 'AA_MALE', 'AA_FEMALE', 'NH_MALE', 'NH_FEMALE', 'H_MALE', 'H_FEMALE', 'WA_MALE', 'WA_FEMALE']] = norm_data[['TOT_MALE', 'TOT_FEMALE', 'BA_MALE', 'BA_FEMALE', 'AA_MALE', 'AA_FEMALE', 'NH_MALE', 'NH_FEMALE', 'H_MALE', 'H_FEMALE', 'WA_MALE', 'WA_FEMALE']].div(norm_data.TOT_POP, axis=0)"
   ]
  },
  {
   "cell_type": "code",
   "execution_count": 39,
   "metadata": {},
   "outputs": [],
   "source": [
    "# From the stratified split we did before: we'll use the same train/test indices\n",
    "train_set1 = norm_data.loc[train_index]\n",
    "test_set1 = norm_data.loc[test_index]\n",
    "\n",
    "training_x1 = train_set1.drop(['CLASS'], axis=1)\n",
    "training_y1 = train_set1[['CLASS']].copy()\n",
    "\n",
    "testing_x1 = test_set1.drop(['CLASS'], axis=1)\n",
    "testing_y1 = test_set1[['CLASS']].copy()    #TRUE classes"
   ]
  },
  {
   "cell_type": "markdown",
   "metadata": {},
   "source": [
    "## Naive Bayes with normalized data"
   ]
  },
  {
   "cell_type": "code",
   "execution_count": 40,
   "metadata": {},
   "outputs": [],
   "source": [
    "# Naive Bayes Classifier with the normalized data\n",
    "gnb2 = GaussianNB()\n",
    "y_pred_NB2 = gnb2.fit(training_x1, np.ravel(training_y1)).predict(testing_x1)"
   ]
  },
  {
   "cell_type": "code",
   "execution_count": 42,
   "metadata": {},
   "outputs": [
    {
     "name": "stdout",
     "output_type": "stream",
     "text": [
      "Average Accuracy = 85.83 %\n"
     ]
    }
   ],
   "source": [
    "scores = cross_val_score(gnb2, testing_x, np.ravel(testing_y), cv=5)\n",
    "avg = round((sum(scores)/5)*100, 2)\n",
    "print('Average Accuracy =',  avg, '%')\n",
    "avg_accuracy = avg_accuracy.append({'Classifier': 'Naive Bayes2', 'Percent_Avg_Accuracy': avg}, ignore_index=True)"
   ]
  },
  {
   "cell_type": "markdown",
   "metadata": {},
   "source": [
    "## Logistic Regression with normalized data"
   ]
  },
  {
   "cell_type": "code",
   "execution_count": 43,
   "metadata": {},
   "outputs": [],
   "source": [
    "# Logistic Regression Classifier with the normalized data\n",
    "log_model2 = LogisticRegression(solver='liblinear', random_state=0)\n",
    "y_pred_log2 = log_model2.fit(training_x1,np.ravel(training_y1)).predict(testing_x1)"
   ]
  },
  {
   "cell_type": "code",
   "execution_count": 45,
   "metadata": {},
   "outputs": [
    {
     "name": "stdout",
     "output_type": "stream",
     "text": [
      "Average Accuracy = 89.92 %\n"
     ]
    }
   ],
   "source": [
    "scores = cross_val_score(log_model2, testing_x, np.ravel(testing_y), cv=5)\n",
    "avg = round((sum(scores)/5)*100, 2)\n",
    "print('Average Accuracy =',  avg, '%')\n",
    "avg_accuracy = avg_accuracy.append({'Classifier': 'Logistic2', 'Percent_Avg_Accuracy': avg}, ignore_index=True)"
   ]
  },
  {
   "cell_type": "markdown",
   "metadata": {},
   "source": [
    "# Trying some new classifiers hoping for better accuracy:\n",
    "## SVM with linear kernel"
   ]
  },
  {
   "cell_type": "code",
   "execution_count": 46,
   "metadata": {},
   "outputs": [],
   "source": [
    "lin_svm = svm.SVC(gamma = 'scale', kernel = 'linear' )\n",
    "lin_svm.fit(training_x1, np.ravel(training_y1))\n",
    "svm_pred = lin_svm.predict(testing_x1)"
   ]
  },
  {
   "cell_type": "code",
   "execution_count": 48,
   "metadata": {},
   "outputs": [
    {
     "name": "stdout",
     "output_type": "stream",
     "text": [
      "Average Accuracy = 89.92 %\n"
     ]
    }
   ],
   "source": [
    "scores = cross_val_score(log_model, testing_x, np.ravel(testing_y), cv=5)\n",
    "avg = round((sum(scores)/5)*100, 2)\n",
    "print('Average Accuracy =',  avg, '%')\n",
    "avg_accuracy = avg_accuracy.append({'Classifier': 'Linear SVM1', 'Percent_Avg_Accuracy': avg}, ignore_index=True)\n",
    "# avg_accuracy.head()"
   ]
  },
  {
   "cell_type": "markdown",
   "metadata": {},
   "source": [
    "## SVM with a non-linear (RBF) kernel"
   ]
  },
  {
   "cell_type": "code",
   "execution_count": 49,
   "metadata": {},
   "outputs": [],
   "source": [
    "rbf_svm = svm.SVC(gamma = 'scale', kernel='rbf')\n",
    "rbf_pred = rbf_svm.fit(training_x1, np.ravel(training_y1)).predict(testing_x1)"
   ]
  },
  {
   "cell_type": "code",
   "execution_count": 51,
   "metadata": {},
   "outputs": [
    {
     "name": "stdout",
     "output_type": "stream",
     "text": [
      "Average Accuracy = 93.06 %\n"
     ]
    }
   ],
   "source": [
    "scores = cross_val_score(rbf_svm, testing_x, np.ravel(testing_y), cv=5)\n",
    "avg = round((sum(scores)/5)*100, 2)\n",
    "print('Average Accuracy =',  avg, '%')\n",
    "avg_accuracy = avg_accuracy.append({'Classifier': 'RBF SVM1', 'Percent_Avg_Accuracy': avg}, ignore_index=True)\n",
    "# avg_accuracy.head()"
   ]
  },
  {
   "cell_type": "markdown",
   "metadata": {},
   "source": [
    "## Performing PCA and transforming data"
   ]
  },
  {
   "cell_type": "code",
   "execution_count": 52,
   "metadata": {},
   "outputs": [],
   "source": [
    "from sklearn.preprocessing import StandardScaler\n",
    "from sklearn.pipeline import Pipeline \n",
    "from sklearn.pipeline import make_pipeline\n",
    "from sklearn.decomposition import PCA"
   ]
  },
  {
   "cell_type": "code",
   "execution_count": 53,
   "metadata": {},
   "outputs": [],
   "source": [
    "input_pipeline = make_pipeline(StandardScaler(), PCA(n_components=.5)) #n_components=.5 give 2 PCs\n",
    "training_trans = input_pipeline.fit_transform(training_x1)\n",
    "testing_trans = input_pipeline.fit_transform(testing_x1)"
   ]
  },
  {
   "cell_type": "markdown",
   "metadata": {},
   "source": [
    "## Logistic regression with PCA"
   ]
  },
  {
   "cell_type": "code",
   "execution_count": 54,
   "metadata": {},
   "outputs": [],
   "source": [
    "log_pca = LogisticRegression(solver='liblinear', random_state=0)\n",
    "log_pca.fit(training_trans,np.ravel(training_y1))\n",
    "log_pca_predict = log_pca.predict(testing_trans)"
   ]
  },
  {
   "cell_type": "code",
   "execution_count": 56,
   "metadata": {},
   "outputs": [
    {
     "name": "stdout",
     "output_type": "stream",
     "text": [
      "Average Accuracy = 92.42 %\n"
     ]
    }
   ],
   "source": [
    "scores = cross_val_score(log_pca, testing_trans, np.ravel(testing_y1), cv=5)\n",
    "avg = round((sum(scores)/5)*100, 2)\n",
    "print('Average Accuracy =',  avg, '%')\n",
    "avg_accuracy = avg_accuracy.append({'Classifier': 'Logistic PCA', 'Percent_Avg_Accuracy': avg}, ignore_index=True)\n",
    "# avg_accuracy.head()"
   ]
  },
  {
   "cell_type": "markdown",
   "metadata": {},
   "source": [
    "## Naive Bayes with PCA"
   ]
  },
  {
   "cell_type": "code",
   "execution_count": 57,
   "metadata": {},
   "outputs": [],
   "source": [
    "nb_pca = GaussianNB()\n",
    "nb_pca.fit(training_trans, np.ravel(training_y1))\n",
    "nb_pca_pred = nb_pca.predict(testing_trans)"
   ]
  },
  {
   "cell_type": "code",
   "execution_count": 59,
   "metadata": {},
   "outputs": [
    {
     "name": "stdout",
     "output_type": "stream",
     "text": [
      "Average Accuracy = 92.42 %\n"
     ]
    }
   ],
   "source": [
    "scores = cross_val_score(nb_pca, testing_trans, np.ravel(testing_y1), cv=5)\n",
    "avg = round((sum(scores)/5)*100, 2)\n",
    "print('Average Accuracy =',  avg, '%')\n",
    "avg_accuracy = avg_accuracy.append({'Classifier': 'Naive Bayes PCA', 'Percent_Avg_Accuracy': avg}, ignore_index=True)\n",
    "# avg_accuracy.head()"
   ]
  },
  {
   "cell_type": "markdown",
   "metadata": {},
   "source": [
    "## Linear SVM with PCA"
   ]
  },
  {
   "cell_type": "code",
   "execution_count": 60,
   "metadata": {},
   "outputs": [],
   "source": [
    "linear_svm_pca = svm.SVC(gamma = 'scale', kernel='linear')\n",
    "linear_svm_pca.fit(training_trans, np.ravel(training_y1))\n",
    "lin_svm_pca_pred = linear_svm_pca.predict(testing_trans)"
   ]
  },
  {
   "cell_type": "code",
   "execution_count": 62,
   "metadata": {},
   "outputs": [
    {
     "name": "stdout",
     "output_type": "stream",
     "text": [
      "Average Accuracy = 89.92 %\n"
     ]
    }
   ],
   "source": [
    "scores = cross_val_score(linear_svm_pca, testing_trans, np.ravel(testing_y1), cv=5)\n",
    "avg = round((sum(scores)/5)*100, 2)\n",
    "print('Average Accuracy =',  avg, '%')\n",
    "avg_accuracy = avg_accuracy.append({'Classifier': 'Linear SVM PCA', 'Percent_Avg_Accuracy': avg}, ignore_index=True)\n",
    "# avg_accuracy.head()"
   ]
  },
  {
   "cell_type": "markdown",
   "metadata": {},
   "source": [
    "## Non-linear SVM with PCA"
   ]
  },
  {
   "cell_type": "code",
   "execution_count": 63,
   "metadata": {},
   "outputs": [],
   "source": [
    "rbf_svm_pca = svm.SVC(gamma = 'scale', kernel='rbf')\n",
    "rbf_pred_pca = rbf_svm_pca.fit(training_trans, np.ravel(training_y1)).predict(testing_trans)"
   ]
  },
  {
   "cell_type": "code",
   "execution_count": 65,
   "metadata": {},
   "outputs": [
    {
     "name": "stdout",
     "output_type": "stream",
     "text": [
      "Average Accuracy = 92.7 %\n"
     ]
    }
   ],
   "source": [
    "scores = cross_val_score(rbf_svm_pca, testing_trans, np.ravel(testing_y1), cv=5)\n",
    "avg = round((sum(scores)/5)*100, 2)\n",
    "print('Average Accuracy =',  avg, '%')\n",
    "avg_accuracy = avg_accuracy.append({'Classifier': 'RBF SVM PCA', 'Percent_Avg_Accuracy': avg}, ignore_index=True)"
   ]
  },
  {
   "cell_type": "markdown",
   "metadata": {},
   "source": [
    "## Summary of all Models:"
   ]
  },
  {
   "cell_type": "code",
   "execution_count": 88,
   "metadata": {},
   "outputs": [
    {
     "data": {
      "text/html": [
       "<div>\n",
       "<style scoped>\n",
       "    .dataframe tbody tr th:only-of-type {\n",
       "        vertical-align: middle;\n",
       "    }\n",
       "\n",
       "    .dataframe tbody tr th {\n",
       "        vertical-align: top;\n",
       "    }\n",
       "\n",
       "    .dataframe thead th {\n",
       "        text-align: right;\n",
       "    }\n",
       "</style>\n",
       "<table border=\"1\" class=\"dataframe\">\n",
       "  <thead>\n",
       "    <tr style=\"text-align: right;\">\n",
       "      <th></th>\n",
       "      <th>Classifier</th>\n",
       "      <th>Percent_Avg_Accuracy</th>\n",
       "    </tr>\n",
       "  </thead>\n",
       "  <tbody>\n",
       "    <tr>\n",
       "      <th>0</th>\n",
       "      <td>Naive Bayes</td>\n",
       "      <td>85.83</td>\n",
       "    </tr>\n",
       "    <tr>\n",
       "      <th>1</th>\n",
       "      <td>Logistic1</td>\n",
       "      <td>89.92</td>\n",
       "    </tr>\n",
       "    <tr>\n",
       "      <th>2</th>\n",
       "      <td>Naive Bayes2</td>\n",
       "      <td>85.83</td>\n",
       "    </tr>\n",
       "    <tr>\n",
       "      <th>3</th>\n",
       "      <td>Logistic2</td>\n",
       "      <td>89.92</td>\n",
       "    </tr>\n",
       "    <tr>\n",
       "      <th>4</th>\n",
       "      <td>Linear SVM1</td>\n",
       "      <td>89.92</td>\n",
       "    </tr>\n",
       "    <tr>\n",
       "      <th>5</th>\n",
       "      <td>RBF SVM1</td>\n",
       "      <td>93.06</td>\n",
       "    </tr>\n",
       "    <tr>\n",
       "      <th>6</th>\n",
       "      <td>Logistic PCA</td>\n",
       "      <td>92.42</td>\n",
       "    </tr>\n",
       "    <tr>\n",
       "      <th>7</th>\n",
       "      <td>Naive Bayes PCA</td>\n",
       "      <td>92.42</td>\n",
       "    </tr>\n",
       "    <tr>\n",
       "      <th>8</th>\n",
       "      <td>Linear SVM PCA</td>\n",
       "      <td>89.92</td>\n",
       "    </tr>\n",
       "    <tr>\n",
       "      <th>9</th>\n",
       "      <td>RBF SVM PCA</td>\n",
       "      <td>92.70</td>\n",
       "    </tr>\n",
       "  </tbody>\n",
       "</table>\n",
       "</div>"
      ],
      "text/plain": [
       "        Classifier  Percent_Avg_Accuracy\n",
       "0      Naive Bayes                 85.83\n",
       "1        Logistic1                 89.92\n",
       "2     Naive Bayes2                 85.83\n",
       "3        Logistic2                 89.92\n",
       "4      Linear SVM1                 89.92\n",
       "5         RBF SVM1                 93.06\n",
       "6     Logistic PCA                 92.42\n",
       "7  Naive Bayes PCA                 92.42\n",
       "8   Linear SVM PCA                 89.92\n",
       "9      RBF SVM PCA                 92.70"
      ]
     },
     "execution_count": 88,
     "metadata": {},
     "output_type": "execute_result"
    }
   ],
   "source": [
    "avg_accuracy"
   ]
  },
  {
   "cell_type": "markdown",
   "metadata": {},
   "source": [
    "## Try one more model: Decision trees"
   ]
  },
  {
   "cell_type": "markdown",
   "metadata": {},
   "source": [
    "#### This was done after milestone 2, but we did not find that either decision tree classifier performed better than our previous models so we didn't include it in our final prediciton."
   ]
  },
  {
   "cell_type": "code",
   "execution_count": 66,
   "metadata": {},
   "outputs": [],
   "source": [
    "from sklearn import tree\n",
    "\n",
    "dt_clf = tree.DecisionTreeClassifier()\n",
    "dt_clf_pred = dt_clf.fit(training_x1, np.ravel(training_y1)).predict(testing_x1)"
   ]
  },
  {
   "cell_type": "code",
   "execution_count": 68,
   "metadata": {},
   "outputs": [
    {
     "name": "stdout",
     "output_type": "stream",
     "text": [
      "Average Accuracy = 85.2 %\n"
     ]
    }
   ],
   "source": [
    "scores = cross_val_score(dt_clf, testing_x1, np.ravel(testing_y1), cv=5)\n",
    "avg = round((sum(scores)/5)*100, 2)\n",
    "print('Average Accuracy =',  avg, '%')\n",
    "# avg_accuracy = avg_accuracy.append({'Classifier': 'RBF SVM PCA', 'Percent_Avg_Accuracy': avg}, ignore_index=True)"
   ]
  },
  {
   "cell_type": "code",
   "execution_count": 69,
   "metadata": {},
   "outputs": [],
   "source": [
    "dt_pca = tree.DecisionTreeClassifier()\n",
    "dt_pca_pred = dt_pca.fit(training_trans, np.ravel(training_y1)).predict(testing_trans)"
   ]
  },
  {
   "cell_type": "code",
   "execution_count": 70,
   "metadata": {},
   "outputs": [
    {
     "name": "stdout",
     "output_type": "stream",
     "text": [
      "Average Accuracy = 92.42 %\n"
     ]
    }
   ],
   "source": [
    "scores = cross_val_score(dt_pca, testing_trans, np.ravel(testing_y1), cv=5)\n",
    "avg = round((sum(scores)/5)*100, 2)\n",
    "print('Average Accuracy =',  avg, '%')\n",
    "# avg_accuracy = avg_accuracy.append({'Classifier': 'RBF SVM PCA', 'Percent_Avg_Accuracy': avg}, ignore_index=True)"
   ]
  },
  {
   "cell_type": "markdown",
   "metadata": {},
   "source": [
    "## Plotting feature space and decision boundaries for each classifier (with PCA)\n",
    "#### Here we were interested in visualizing the decision spaces for the classifiers which used PCA"
   ]
  },
  {
   "cell_type": "code",
   "execution_count": 72,
   "metadata": {},
   "outputs": [],
   "source": [
    "def make_meshgrid(x, y, h=.02):\n",
    "    x_min, x_max = x.min() - 1, x.max() + 1\n",
    "    y_min, y_max = y.min() - 1, y.max() + 1\n",
    "    xx, yy = np.meshgrid(np.arange(x_min, x_max, h),\n",
    "                         np.arange(y_min, y_max, h))\n",
    "    return xx, yy"
   ]
  },
  {
   "cell_type": "code",
   "execution_count": 73,
   "metadata": {},
   "outputs": [],
   "source": [
    "def plot_contours(ax, clf, xx, yy, **params):\n",
    "    Z = clf.predict(np.c_[xx.ravel(), yy.ravel()])\n",
    "    Z = Z.reshape(xx.shape)\n",
    "    out = ax.contourf(xx, yy, Z, **params)\n",
    "    return out"
   ]
  },
  {
   "cell_type": "code",
   "execution_count": 74,
   "metadata": {},
   "outputs": [],
   "source": [
    "X = training_trans.copy()\n",
    "y = training_y1.copy()"
   ]
  },
  {
   "cell_type": "code",
   "execution_count": 75,
   "metadata": {},
   "outputs": [],
   "source": [
    "PC1_train = X[:,0]\n",
    "PC2_train = X[:,1]\n",
    "\n",
    "PC1_test = testing_trans[:,0]\n",
    "PC2_test = testing_trans[:,1]"
   ]
  },
  {
   "cell_type": "code",
   "execution_count": 76,
   "metadata": {},
   "outputs": [],
   "source": [
    "xx, yy = make_meshgrid(PC1_train, PC2_train)"
   ]
  },
  {
   "cell_type": "code",
   "execution_count": 77,
   "metadata": {},
   "outputs": [
    {
     "data": {
      "image/png": "[encoded data removed]",
      "text/plain": [
       "<Figure size 360x360 with 1 Axes>"
      ]
     },
     "metadata": {},
     "output_type": "display_data"
    }
   ],
   "source": [
    "fig = plt.figure(figsize = (5,5))\n",
    "ax = fig.add_subplot(111)\n",
    "\n",
    "## Change each classifier to see the resulting decision space\n",
    "# clf = log_pca\n",
    "# clf = nb_pca\n",
    "# clf = linear_svm_pca\n",
    "clf = rbf_svm_pca\n",
    "\n",
    "\n",
    "plot_contours(ax, clf, xx, yy, cmap=plt.cm.coolwarm, alpha=0.4)\n",
    "ax.scatter(PC1_test, PC2_test, c = np.ravel(testing_y1), cmap=plt.cm.coolwarm, s=20, edgecolors='k', alpha = .5)\n",
    "ax.set_xlim(xx.min(), xx.max())\n",
    "ax.set_ylim(yy.min(), yy.max())\n",
    "ax.set_xlabel('PC 1')\n",
    "ax.set_ylabel('PC 2')\n",
    "ax.set_xticks(())\n",
    "ax.set_yticks(())\n",
    "ax.set_title('Non-Linear SVM Classifier with PCA Decision Space')\n",
    "\n",
    "plt.show()"
   ]
  },
  {
   "cell_type": "markdown",
   "metadata": {},
   "source": [
    "# Next steps: transform prediction data and predict with best models"
   ]
  },
  {
   "cell_type": "markdown",
   "metadata": {},
   "source": [
    "## Use top 2 performing classifiers and compare their outputs.\n",
    "#### First we needed to normalize the test (prediction) set like we did the the training and validation sets earlier."
   ]
  },
  {
   "cell_type": "code",
   "execution_count": 79,
   "metadata": {},
   "outputs": [],
   "source": [
    "norm_predict_data = new_demo_predict.drop(['index','STATE','COUNTY','CTYNAME','AGEGRP','YEAR', 'STNAME'], axis=1)\n",
    "norm_predict_data[['TOT_MALE', 'TOT_FEMALE', 'BA_MALE', 'BA_FEMALE', 'AA_MALE', 'AA_FEMALE', 'NH_MALE', 'NH_FEMALE', 'H_MALE', 'H_FEMALE', 'WA_MALE', 'WA_FEMALE']] = norm_predict_data[['TOT_MALE', 'TOT_FEMALE', 'BA_MALE', 'BA_FEMALE', 'AA_MALE', 'AA_FEMALE', 'NH_MALE', 'NH_FEMALE', 'H_MALE', 'H_FEMALE', 'WA_MALE', 'WA_FEMALE']].div(norm_predict_data.TOT_POP, axis=0)"
   ]
  },
  {
   "cell_type": "code",
   "execution_count": 80,
   "metadata": {},
   "outputs": [
    {
     "data": {
      "text/html": [
       "<div>\n",
       "<style scoped>\n",
       "    .dataframe tbody tr th:only-of-type {\n",
       "        vertical-align: middle;\n",
       "    }\n",
       "\n",
       "    .dataframe tbody tr th {\n",
       "        vertical-align: top;\n",
       "    }\n",
       "\n",
       "    .dataframe thead th {\n",
       "        text-align: right;\n",
       "    }\n",
       "</style>\n",
       "<table border=\"1\" class=\"dataframe\">\n",
       "  <thead>\n",
       "    <tr style=\"text-align: right;\">\n",
       "      <th></th>\n",
       "      <th>TOT_POP</th>\n",
       "      <th>TOT_MALE</th>\n",
       "      <th>TOT_FEMALE</th>\n",
       "      <th>BA_MALE</th>\n",
       "      <th>BA_FEMALE</th>\n",
       "      <th>AA_MALE</th>\n",
       "      <th>AA_FEMALE</th>\n",
       "      <th>NH_MALE</th>\n",
       "      <th>NH_FEMALE</th>\n",
       "      <th>H_MALE</th>\n",
       "      <th>H_FEMALE</th>\n",
       "      <th>WA_MALE</th>\n",
       "      <th>WA_FEMALE</th>\n",
       "    </tr>\n",
       "  </thead>\n",
       "  <tbody>\n",
       "    <tr>\n",
       "      <th>0</th>\n",
       "      <td>269956</td>\n",
       "      <td>0.483145</td>\n",
       "      <td>0.516855</td>\n",
       "      <td>0.095204</td>\n",
       "      <td>0.110662</td>\n",
       "      <td>0.030764</td>\n",
       "      <td>0.031839</td>\n",
       "      <td>0.433378</td>\n",
       "      <td>0.463861</td>\n",
       "      <td>0.049767</td>\n",
       "      <td>0.052994</td>\n",
       "      <td>0.340652</td>\n",
       "      <td>0.357921</td>\n",
       "    </tr>\n",
       "    <tr>\n",
       "      <th>1</th>\n",
       "      <td>28355</td>\n",
       "      <td>0.526080</td>\n",
       "      <td>0.473920</td>\n",
       "      <td>0.090143</td>\n",
       "      <td>0.049938</td>\n",
       "      <td>0.003209</td>\n",
       "      <td>0.003879</td>\n",
       "      <td>0.511092</td>\n",
       "      <td>0.462247</td>\n",
       "      <td>0.014989</td>\n",
       "      <td>0.011673</td>\n",
       "      <td>0.421619</td>\n",
       "      <td>0.408323</td>\n",
       "    </tr>\n",
       "    <tr>\n",
       "      <th>2</th>\n",
       "      <td>185287</td>\n",
       "      <td>0.496144</td>\n",
       "      <td>0.503856</td>\n",
       "      <td>0.058115</td>\n",
       "      <td>0.058682</td>\n",
       "      <td>0.009423</td>\n",
       "      <td>0.013368</td>\n",
       "      <td>0.461619</td>\n",
       "      <td>0.471317</td>\n",
       "      <td>0.034525</td>\n",
       "      <td>0.032539</td>\n",
       "      <td>0.407303</td>\n",
       "      <td>0.409721</td>\n",
       "    </tr>\n",
       "    <tr>\n",
       "      <th>3</th>\n",
       "      <td>27732</td>\n",
       "      <td>0.552358</td>\n",
       "      <td>0.447642</td>\n",
       "      <td>0.132122</td>\n",
       "      <td>0.068405</td>\n",
       "      <td>0.002741</td>\n",
       "      <td>0.003281</td>\n",
       "      <td>0.523475</td>\n",
       "      <td>0.433831</td>\n",
       "      <td>0.028884</td>\n",
       "      <td>0.013811</td>\n",
       "      <td>0.404551</td>\n",
       "      <td>0.362866</td>\n",
       "    </tr>\n",
       "    <tr>\n",
       "      <th>4</th>\n",
       "      <td>596849</td>\n",
       "      <td>0.489073</td>\n",
       "      <td>0.510927</td>\n",
       "      <td>0.051254</td>\n",
       "      <td>0.056002</td>\n",
       "      <td>0.011708</td>\n",
       "      <td>0.014696</td>\n",
       "      <td>0.436589</td>\n",
       "      <td>0.456246</td>\n",
       "      <td>0.052484</td>\n",
       "      <td>0.054680</td>\n",
       "      <td>0.409375</td>\n",
       "      <td>0.423068</td>\n",
       "    </tr>\n",
       "  </tbody>\n",
       "</table>\n",
       "</div>"
      ],
      "text/plain": [
       "   TOT_POP  TOT_MALE  TOT_FEMALE   BA_MALE  BA_FEMALE   AA_MALE  AA_FEMALE  \\\n",
       "0   269956  0.483145    0.516855  0.095204   0.110662  0.030764   0.031839   \n",
       "1    28355  0.526080    0.473920  0.090143   0.049938  0.003209   0.003879   \n",
       "2   185287  0.496144    0.503856  0.058115   0.058682  0.009423   0.013368   \n",
       "3    27732  0.552358    0.447642  0.132122   0.068405  0.002741   0.003281   \n",
       "4   596849  0.489073    0.510927  0.051254   0.056002  0.011708   0.014696   \n",
       "\n",
       "    NH_MALE  NH_FEMALE    H_MALE  H_FEMALE   WA_MALE  WA_FEMALE  \n",
       "0  0.433378   0.463861  0.049767  0.052994  0.340652   0.357921  \n",
       "1  0.511092   0.462247  0.014989  0.011673  0.421619   0.408323  \n",
       "2  0.461619   0.471317  0.034525  0.032539  0.407303   0.409721  \n",
       "3  0.523475   0.433831  0.028884  0.013811  0.404551   0.362866  \n",
       "4  0.436589   0.456246  0.052484  0.054680  0.409375   0.423068  "
      ]
     },
     "execution_count": 80,
     "metadata": {},
     "output_type": "execute_result"
    }
   ],
   "source": [
    "norm_predict_data.head()"
   ]
  },
  {
   "cell_type": "markdown",
   "metadata": {},
   "source": [
    "### Predict with Non-linear SVM classifier"
   ]
  },
  {
   "cell_type": "code",
   "execution_count": 81,
   "metadata": {},
   "outputs": [],
   "source": [
    "rbf_pred_final = rbf_svm.predict(norm_predict_data)"
   ]
  },
  {
   "cell_type": "markdown",
   "metadata": {},
   "source": [
    "### Perform PCA and then predict with non-linear SVM classifier"
   ]
  },
  {
   "cell_type": "code",
   "execution_count": 82,
   "metadata": {},
   "outputs": [],
   "source": [
    "norm_predict_data_pca = input_pipeline.fit_transform(norm_predict_data)"
   ]
  },
  {
   "cell_type": "code",
   "execution_count": 83,
   "metadata": {},
   "outputs": [],
   "source": [
    "rbf_pred_pca_final = rbf_svm_pca.predict(norm_predict_data_pca)"
   ]
  },
  {
   "cell_type": "code",
   "execution_count": 84,
   "metadata": {},
   "outputs": [],
   "source": [
    "final_predictions = pd.DataFrame(columns = ['rbf_svm','rbf_svm_pca'])\n",
    "final_predictions['rbf_svm'] = rbf_pred_final\n",
    "final_predictions['rbf_svm_pca'] = rbf_pred_pca_final"
   ]
  },
  {
   "cell_type": "code",
   "execution_count": 89,
   "metadata": {},
   "outputs": [],
   "source": [
    "# print(final_predictions['rbf_svm_pca'].to_list())\n",
    "# print(final_predictions['rbf_svm'].to_list())"
   ]
  },
  {
   "cell_type": "markdown",
   "metadata": {},
   "source": [
    "# using mapping library in R to plot"
   ]
  },
  {
   "cell_type": "markdown",
   "metadata": {},
   "source": [
    "### Once we have the final predictions for each classifier we wanted to have some visuals that showed the predicted outcomes with the actual county, so we use the usmap library in R to plot these visuals."
   ]
  },
  {
   "cell_type": "code",
   "execution_count": 86,
   "metadata": {},
   "outputs": [
    {
     "data": {
      "text/html": [
       "<div>\n",
       "<style scoped>\n",
       "    .dataframe tbody tr th:only-of-type {\n",
       "        vertical-align: middle;\n",
       "    }\n",
       "\n",
       "    .dataframe tbody tr th {\n",
       "        vertical-align: top;\n",
       "    }\n",
       "\n",
       "    .dataframe thead th {\n",
       "        text-align: right;\n",
       "    }\n",
       "</style>\n",
       "<table border=\"1\" class=\"dataframe\">\n",
       "  <thead>\n",
       "    <tr style=\"text-align: right;\">\n",
       "      <th></th>\n",
       "      <th>rbf_svm</th>\n",
       "      <th>rbf_svm_pca</th>\n",
       "    </tr>\n",
       "  </thead>\n",
       "  <tbody>\n",
       "    <tr>\n",
       "      <th>0</th>\n",
       "      <td>0</td>\n",
       "      <td>1</td>\n",
       "    </tr>\n",
       "    <tr>\n",
       "      <th>1</th>\n",
       "      <td>0</td>\n",
       "      <td>0</td>\n",
       "    </tr>\n",
       "    <tr>\n",
       "      <th>2</th>\n",
       "      <td>0</td>\n",
       "      <td>0</td>\n",
       "    </tr>\n",
       "    <tr>\n",
       "      <th>3</th>\n",
       "      <td>0</td>\n",
       "      <td>0</td>\n",
       "    </tr>\n",
       "    <tr>\n",
       "      <th>4</th>\n",
       "      <td>0</td>\n",
       "      <td>0</td>\n",
       "    </tr>\n",
       "    <tr>\n",
       "      <th>5</th>\n",
       "      <td>1</td>\n",
       "      <td>1</td>\n",
       "    </tr>\n",
       "    <tr>\n",
       "      <th>6</th>\n",
       "      <td>0</td>\n",
       "      <td>0</td>\n",
       "    </tr>\n",
       "    <tr>\n",
       "      <th>7</th>\n",
       "      <td>0</td>\n",
       "      <td>0</td>\n",
       "    </tr>\n",
       "    <tr>\n",
       "      <th>8</th>\n",
       "      <td>0</td>\n",
       "      <td>0</td>\n",
       "    </tr>\n",
       "    <tr>\n",
       "      <th>9</th>\n",
       "      <td>0</td>\n",
       "      <td>0</td>\n",
       "    </tr>\n",
       "    <tr>\n",
       "      <th>10</th>\n",
       "      <td>0</td>\n",
       "      <td>0</td>\n",
       "    </tr>\n",
       "    <tr>\n",
       "      <th>11</th>\n",
       "      <td>0</td>\n",
       "      <td>0</td>\n",
       "    </tr>\n",
       "    <tr>\n",
       "      <th>12</th>\n",
       "      <td>0</td>\n",
       "      <td>0</td>\n",
       "    </tr>\n",
       "    <tr>\n",
       "      <th>13</th>\n",
       "      <td>0</td>\n",
       "      <td>0</td>\n",
       "    </tr>\n",
       "    <tr>\n",
       "      <th>14</th>\n",
       "      <td>0</td>\n",
       "      <td>1</td>\n",
       "    </tr>\n",
       "    <tr>\n",
       "      <th>15</th>\n",
       "      <td>0</td>\n",
       "      <td>0</td>\n",
       "    </tr>\n",
       "    <tr>\n",
       "      <th>16</th>\n",
       "      <td>0</td>\n",
       "      <td>0</td>\n",
       "    </tr>\n",
       "    <tr>\n",
       "      <th>17</th>\n",
       "      <td>0</td>\n",
       "      <td>0</td>\n",
       "    </tr>\n",
       "    <tr>\n",
       "      <th>18</th>\n",
       "      <td>0</td>\n",
       "      <td>1</td>\n",
       "    </tr>\n",
       "    <tr>\n",
       "      <th>19</th>\n",
       "      <td>0</td>\n",
       "      <td>0</td>\n",
       "    </tr>\n",
       "    <tr>\n",
       "      <th>20</th>\n",
       "      <td>0</td>\n",
       "      <td>0</td>\n",
       "    </tr>\n",
       "    <tr>\n",
       "      <th>21</th>\n",
       "      <td>0</td>\n",
       "      <td>0</td>\n",
       "    </tr>\n",
       "    <tr>\n",
       "      <th>22</th>\n",
       "      <td>0</td>\n",
       "      <td>0</td>\n",
       "    </tr>\n",
       "    <tr>\n",
       "      <th>23</th>\n",
       "      <td>0</td>\n",
       "      <td>0</td>\n",
       "    </tr>\n",
       "    <tr>\n",
       "      <th>24</th>\n",
       "      <td>0</td>\n",
       "      <td>0</td>\n",
       "    </tr>\n",
       "    <tr>\n",
       "      <th>25</th>\n",
       "      <td>0</td>\n",
       "      <td>0</td>\n",
       "    </tr>\n",
       "    <tr>\n",
       "      <th>26</th>\n",
       "      <td>0</td>\n",
       "      <td>0</td>\n",
       "    </tr>\n",
       "    <tr>\n",
       "      <th>27</th>\n",
       "      <td>1</td>\n",
       "      <td>1</td>\n",
       "    </tr>\n",
       "    <tr>\n",
       "      <th>28</th>\n",
       "      <td>0</td>\n",
       "      <td>0</td>\n",
       "    </tr>\n",
       "    <tr>\n",
       "      <th>29</th>\n",
       "      <td>0</td>\n",
       "      <td>0</td>\n",
       "    </tr>\n",
       "    <tr>\n",
       "      <th>...</th>\n",
       "      <td>...</td>\n",
       "      <td>...</td>\n",
       "    </tr>\n",
       "    <tr>\n",
       "      <th>37</th>\n",
       "      <td>0</td>\n",
       "      <td>0</td>\n",
       "    </tr>\n",
       "    <tr>\n",
       "      <th>38</th>\n",
       "      <td>0</td>\n",
       "      <td>0</td>\n",
       "    </tr>\n",
       "    <tr>\n",
       "      <th>39</th>\n",
       "      <td>0</td>\n",
       "      <td>0</td>\n",
       "    </tr>\n",
       "    <tr>\n",
       "      <th>40</th>\n",
       "      <td>0</td>\n",
       "      <td>0</td>\n",
       "    </tr>\n",
       "    <tr>\n",
       "      <th>41</th>\n",
       "      <td>0</td>\n",
       "      <td>0</td>\n",
       "    </tr>\n",
       "    <tr>\n",
       "      <th>42</th>\n",
       "      <td>1</td>\n",
       "      <td>1</td>\n",
       "    </tr>\n",
       "    <tr>\n",
       "      <th>43</th>\n",
       "      <td>0</td>\n",
       "      <td>0</td>\n",
       "    </tr>\n",
       "    <tr>\n",
       "      <th>44</th>\n",
       "      <td>0</td>\n",
       "      <td>0</td>\n",
       "    </tr>\n",
       "    <tr>\n",
       "      <th>45</th>\n",
       "      <td>0</td>\n",
       "      <td>0</td>\n",
       "    </tr>\n",
       "    <tr>\n",
       "      <th>46</th>\n",
       "      <td>0</td>\n",
       "      <td>0</td>\n",
       "    </tr>\n",
       "    <tr>\n",
       "      <th>47</th>\n",
       "      <td>1</td>\n",
       "      <td>1</td>\n",
       "    </tr>\n",
       "    <tr>\n",
       "      <th>48</th>\n",
       "      <td>0</td>\n",
       "      <td>0</td>\n",
       "    </tr>\n",
       "    <tr>\n",
       "      <th>49</th>\n",
       "      <td>1</td>\n",
       "      <td>0</td>\n",
       "    </tr>\n",
       "    <tr>\n",
       "      <th>50</th>\n",
       "      <td>0</td>\n",
       "      <td>0</td>\n",
       "    </tr>\n",
       "    <tr>\n",
       "      <th>51</th>\n",
       "      <td>0</td>\n",
       "      <td>0</td>\n",
       "    </tr>\n",
       "    <tr>\n",
       "      <th>52</th>\n",
       "      <td>0</td>\n",
       "      <td>0</td>\n",
       "    </tr>\n",
       "    <tr>\n",
       "      <th>53</th>\n",
       "      <td>0</td>\n",
       "      <td>0</td>\n",
       "    </tr>\n",
       "    <tr>\n",
       "      <th>54</th>\n",
       "      <td>0</td>\n",
       "      <td>0</td>\n",
       "    </tr>\n",
       "    <tr>\n",
       "      <th>55</th>\n",
       "      <td>0</td>\n",
       "      <td>0</td>\n",
       "    </tr>\n",
       "    <tr>\n",
       "      <th>56</th>\n",
       "      <td>0</td>\n",
       "      <td>0</td>\n",
       "    </tr>\n",
       "    <tr>\n",
       "      <th>57</th>\n",
       "      <td>0</td>\n",
       "      <td>0</td>\n",
       "    </tr>\n",
       "    <tr>\n",
       "      <th>58</th>\n",
       "      <td>0</td>\n",
       "      <td>0</td>\n",
       "    </tr>\n",
       "    <tr>\n",
       "      <th>59</th>\n",
       "      <td>0</td>\n",
       "      <td>0</td>\n",
       "    </tr>\n",
       "    <tr>\n",
       "      <th>60</th>\n",
       "      <td>0</td>\n",
       "      <td>0</td>\n",
       "    </tr>\n",
       "    <tr>\n",
       "      <th>61</th>\n",
       "      <td>0</td>\n",
       "      <td>0</td>\n",
       "    </tr>\n",
       "    <tr>\n",
       "      <th>62</th>\n",
       "      <td>0</td>\n",
       "      <td>0</td>\n",
       "    </tr>\n",
       "    <tr>\n",
       "      <th>63</th>\n",
       "      <td>0</td>\n",
       "      <td>0</td>\n",
       "    </tr>\n",
       "    <tr>\n",
       "      <th>64</th>\n",
       "      <td>0</td>\n",
       "      <td>0</td>\n",
       "    </tr>\n",
       "    <tr>\n",
       "      <th>65</th>\n",
       "      <td>0</td>\n",
       "      <td>0</td>\n",
       "    </tr>\n",
       "    <tr>\n",
       "      <th>66</th>\n",
       "      <td>0</td>\n",
       "      <td>0</td>\n",
       "    </tr>\n",
       "  </tbody>\n",
       "</table>\n",
       "<p>67 rows × 2 columns</p>\n",
       "</div>"
      ],
      "text/plain": [
       "    rbf_svm  rbf_svm_pca\n",
       "0         0            1\n",
       "1         0            0\n",
       "2         0            0\n",
       "3         0            0\n",
       "4         0            0\n",
       "5         1            1\n",
       "6         0            0\n",
       "7         0            0\n",
       "8         0            0\n",
       "9         0            0\n",
       "10        0            0\n",
       "11        0            0\n",
       "12        0            0\n",
       "13        0            0\n",
       "14        0            1\n",
       "15        0            0\n",
       "16        0            0\n",
       "17        0            0\n",
       "18        0            1\n",
       "19        0            0\n",
       "20        0            0\n",
       "21        0            0\n",
       "22        0            0\n",
       "23        0            0\n",
       "24        0            0\n",
       "25        0            0\n",
       "26        0            0\n",
       "27        1            1\n",
       "28        0            0\n",
       "29        0            0\n",
       "..      ...          ...\n",
       "37        0            0\n",
       "38        0            0\n",
       "39        0            0\n",
       "40        0            0\n",
       "41        0            0\n",
       "42        1            1\n",
       "43        0            0\n",
       "44        0            0\n",
       "45        0            0\n",
       "46        0            0\n",
       "47        1            1\n",
       "48        0            0\n",
       "49        1            0\n",
       "50        0            0\n",
       "51        0            0\n",
       "52        0            0\n",
       "53        0            0\n",
       "54        0            0\n",
       "55        0            0\n",
       "56        0            0\n",
       "57        0            0\n",
       "58        0            0\n",
       "59        0            0\n",
       "60        0            0\n",
       "61        0            0\n",
       "62        0            0\n",
       "63        0            0\n",
       "64        0            0\n",
       "65        0            0\n",
       "66        0            0\n",
       "\n",
       "[67 rows x 2 columns]"
      ]
     },
     "execution_count": 86,
     "metadata": {},
     "output_type": "execute_result"
    }
   ],
   "source": [
    "final_predictions      \n",
    "#these are still in alphabetical order for county names"
   ]
  },
  {
   "cell_type": "code",
   "execution_count": null,
   "metadata": {},
   "outputs": [],
   "source": [
    "# print(new_demo_2016['CLASS'].to_list())"
   ]
  }
 ],
 "metadata": {
  "kernelspec": {
   "display_name": "Python 3",
   "language": "python",
   "name": "python3"
  },
  "language_info": {
   "codemirror_mode": {
    "name": "ipython",
    "version": 3
   },
   "file_extension": ".py",
   "mimetype": "text/x-python",
   "name": "python",
   "nbconvert_exporter": "python",
   "pygments_lexer": "ipython3",
   "version": "3.7.1"
  }
 },
 "nbformat": 4,
 "nbformat_minor": 2
}
